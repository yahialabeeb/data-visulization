{
 "cells": [
  {
   "cell_type": "markdown",
   "metadata": {},
   "source": [
    "## Jordan covid 2020"
   ]
  },
  {
   "cell_type": "markdown",
   "metadata": {},
   "source": [
    "## Importing libs"
   ]
  },
  {
   "cell_type": "code",
   "execution_count": 2,
   "metadata": {},
   "outputs": [],
   "source": [
    "import pandas as pd\n",
    "import matplotlib.pyplot as plt\n",
    "import seaborn as sns"
   ]
  },
  {
   "cell_type": "markdown",
   "metadata": {},
   "source": [
    "## Prepare data"
   ]
  },
  {
   "cell_type": "markdown",
   "metadata": {},
   "source": [
    "### Chosing Jordan as a case study \n",
    "### use applay to get date as number "
   ]
  },
  {
   "cell_type": "code",
   "execution_count": 62,
   "metadata": {},
   "outputs": [
    {
     "data": {
      "text/html": [
       "<div>\n",
       "<style scoped>\n",
       "    .dataframe tbody tr th:only-of-type {\n",
       "        vertical-align: middle;\n",
       "    }\n",
       "\n",
       "    .dataframe tbody tr th {\n",
       "        vertical-align: top;\n",
       "    }\n",
       "\n",
       "    .dataframe thead th {\n",
       "        text-align: right;\n",
       "    }\n",
       "</style>\n",
       "<table border=\"1\" class=\"dataframe\">\n",
       "  <thead>\n",
       "    <tr style=\"text-align: right;\">\n",
       "      <th></th>\n",
       "      <th>Date</th>\n",
       "      <th>Country/Region</th>\n",
       "      <th>Confirmed</th>\n",
       "      <th>Deaths</th>\n",
       "      <th>Recovered</th>\n",
       "      <th>Active</th>\n",
       "      <th>New cases</th>\n",
       "      <th>New deaths</th>\n",
       "      <th>New recovered</th>\n",
       "      <th>WHO Region</th>\n",
       "      <th>Datenum</th>\n",
       "      <th>Month</th>\n",
       "    </tr>\n",
       "  </thead>\n",
       "  <tbody>\n",
       "    <tr>\n",
       "      <th>10186</th>\n",
       "      <td>2020-03-16</td>\n",
       "      <td>Jordan</td>\n",
       "      <td>17</td>\n",
       "      <td>0</td>\n",
       "      <td>1</td>\n",
       "      <td>16</td>\n",
       "      <td>9</td>\n",
       "      <td>0</td>\n",
       "      <td>0</td>\n",
       "      <td>Eastern Mediterranean</td>\n",
       "      <td>316</td>\n",
       "      <td>3</td>\n",
       "    </tr>\n",
       "    <tr>\n",
       "      <th>10373</th>\n",
       "      <td>2020-03-17</td>\n",
       "      <td>Jordan</td>\n",
       "      <td>34</td>\n",
       "      <td>0</td>\n",
       "      <td>1</td>\n",
       "      <td>33</td>\n",
       "      <td>17</td>\n",
       "      <td>0</td>\n",
       "      <td>0</td>\n",
       "      <td>Eastern Mediterranean</td>\n",
       "      <td>317</td>\n",
       "      <td>3</td>\n",
       "    </tr>\n",
       "    <tr>\n",
       "      <th>10560</th>\n",
       "      <td>2020-03-18</td>\n",
       "      <td>Jordan</td>\n",
       "      <td>52</td>\n",
       "      <td>0</td>\n",
       "      <td>1</td>\n",
       "      <td>51</td>\n",
       "      <td>18</td>\n",
       "      <td>0</td>\n",
       "      <td>0</td>\n",
       "      <td>Eastern Mediterranean</td>\n",
       "      <td>318</td>\n",
       "      <td>3</td>\n",
       "    </tr>\n",
       "    <tr>\n",
       "      <th>10747</th>\n",
       "      <td>2020-03-19</td>\n",
       "      <td>Jordan</td>\n",
       "      <td>69</td>\n",
       "      <td>0</td>\n",
       "      <td>1</td>\n",
       "      <td>68</td>\n",
       "      <td>17</td>\n",
       "      <td>0</td>\n",
       "      <td>0</td>\n",
       "      <td>Eastern Mediterranean</td>\n",
       "      <td>319</td>\n",
       "      <td>3</td>\n",
       "    </tr>\n",
       "    <tr>\n",
       "      <th>10934</th>\n",
       "      <td>2020-03-20</td>\n",
       "      <td>Jordan</td>\n",
       "      <td>85</td>\n",
       "      <td>0</td>\n",
       "      <td>1</td>\n",
       "      <td>84</td>\n",
       "      <td>16</td>\n",
       "      <td>0</td>\n",
       "      <td>0</td>\n",
       "      <td>Eastern Mediterranean</td>\n",
       "      <td>320</td>\n",
       "      <td>3</td>\n",
       "    </tr>\n",
       "    <tr>\n",
       "      <th>...</th>\n",
       "      <td>...</td>\n",
       "      <td>...</td>\n",
       "      <td>...</td>\n",
       "      <td>...</td>\n",
       "      <td>...</td>\n",
       "      <td>...</td>\n",
       "      <td>...</td>\n",
       "      <td>...</td>\n",
       "      <td>...</td>\n",
       "      <td>...</td>\n",
       "      <td>...</td>\n",
       "      <td>...</td>\n",
       "    </tr>\n",
       "    <tr>\n",
       "      <th>34309</th>\n",
       "      <td>2020-07-23</td>\n",
       "      <td>Jordan</td>\n",
       "      <td>1131</td>\n",
       "      <td>11</td>\n",
       "      <td>1035</td>\n",
       "      <td>85</td>\n",
       "      <td>11</td>\n",
       "      <td>0</td>\n",
       "      <td>0</td>\n",
       "      <td>Eastern Mediterranean</td>\n",
       "      <td>723</td>\n",
       "      <td>7</td>\n",
       "    </tr>\n",
       "    <tr>\n",
       "      <th>34496</th>\n",
       "      <td>2020-07-24</td>\n",
       "      <td>Jordan</td>\n",
       "      <td>1146</td>\n",
       "      <td>11</td>\n",
       "      <td>1035</td>\n",
       "      <td>100</td>\n",
       "      <td>15</td>\n",
       "      <td>0</td>\n",
       "      <td>0</td>\n",
       "      <td>Eastern Mediterranean</td>\n",
       "      <td>724</td>\n",
       "      <td>7</td>\n",
       "    </tr>\n",
       "    <tr>\n",
       "      <th>34683</th>\n",
       "      <td>2020-07-25</td>\n",
       "      <td>Jordan</td>\n",
       "      <td>1154</td>\n",
       "      <td>11</td>\n",
       "      <td>1036</td>\n",
       "      <td>107</td>\n",
       "      <td>8</td>\n",
       "      <td>0</td>\n",
       "      <td>1</td>\n",
       "      <td>Eastern Mediterranean</td>\n",
       "      <td>725</td>\n",
       "      <td>7</td>\n",
       "    </tr>\n",
       "    <tr>\n",
       "      <th>34870</th>\n",
       "      <td>2020-07-26</td>\n",
       "      <td>Jordan</td>\n",
       "      <td>1168</td>\n",
       "      <td>11</td>\n",
       "      <td>1041</td>\n",
       "      <td>116</td>\n",
       "      <td>14</td>\n",
       "      <td>0</td>\n",
       "      <td>5</td>\n",
       "      <td>Eastern Mediterranean</td>\n",
       "      <td>726</td>\n",
       "      <td>7</td>\n",
       "    </tr>\n",
       "    <tr>\n",
       "      <th>35057</th>\n",
       "      <td>2020-07-27</td>\n",
       "      <td>Jordan</td>\n",
       "      <td>1176</td>\n",
       "      <td>11</td>\n",
       "      <td>1041</td>\n",
       "      <td>124</td>\n",
       "      <td>8</td>\n",
       "      <td>0</td>\n",
       "      <td>0</td>\n",
       "      <td>Eastern Mediterranean</td>\n",
       "      <td>727</td>\n",
       "      <td>7</td>\n",
       "    </tr>\n",
       "  </tbody>\n",
       "</table>\n",
       "<p>134 rows × 12 columns</p>\n",
       "</div>"
      ],
      "text/plain": [
       "             Date Country/Region  Confirmed  Deaths  Recovered  Active  \\\n",
       "10186  2020-03-16         Jordan         17       0          1      16   \n",
       "10373  2020-03-17         Jordan         34       0          1      33   \n",
       "10560  2020-03-18         Jordan         52       0          1      51   \n",
       "10747  2020-03-19         Jordan         69       0          1      68   \n",
       "10934  2020-03-20         Jordan         85       0          1      84   \n",
       "...           ...            ...        ...     ...        ...     ...   \n",
       "34309  2020-07-23         Jordan       1131      11       1035      85   \n",
       "34496  2020-07-24         Jordan       1146      11       1035     100   \n",
       "34683  2020-07-25         Jordan       1154      11       1036     107   \n",
       "34870  2020-07-26         Jordan       1168      11       1041     116   \n",
       "35057  2020-07-27         Jordan       1176      11       1041     124   \n",
       "\n",
       "       New cases  New deaths  New recovered             WHO Region  Datenum  \\\n",
       "10186          9           0              0  Eastern Mediterranean      316   \n",
       "10373         17           0              0  Eastern Mediterranean      317   \n",
       "10560         18           0              0  Eastern Mediterranean      318   \n",
       "10747         17           0              0  Eastern Mediterranean      319   \n",
       "10934         16           0              0  Eastern Mediterranean      320   \n",
       "...          ...         ...            ...                    ...      ...   \n",
       "34309         11           0              0  Eastern Mediterranean      723   \n",
       "34496         15           0              0  Eastern Mediterranean      724   \n",
       "34683          8           0              1  Eastern Mediterranean      725   \n",
       "34870         14           0              5  Eastern Mediterranean      726   \n",
       "35057          8           0              0  Eastern Mediterranean      727   \n",
       "\n",
       "       Month  \n",
       "10186      3  \n",
       "10373      3  \n",
       "10560      3  \n",
       "10747      3  \n",
       "10934      3  \n",
       "...      ...  \n",
       "34309      7  \n",
       "34496      7  \n",
       "34683      7  \n",
       "34870      7  \n",
       "35057      7  \n",
       "\n",
       "[134 rows x 12 columns]"
      ]
     },
     "execution_count": 62,
     "metadata": {},
     "output_type": "execute_result"
    }
   ],
   "source": [
    "df = pd.read_csv(\"full_grouped.csv\")\n",
    "df = df[df[\"Country/Region\"] == \"Jordan\"]\n",
    "df  = df[df[\"Confirmed\"] > 10]\n",
    "def date(date):\n",
    "    a = date.split('-')\n",
    "    b = a[1]+a[2]\n",
    "    return int(b)\n",
    "df['Datenum']=df['Date'].apply(date)\n",
    "def month(date):\n",
    "    a = date.split('-')\n",
    "    b = a[1]\n",
    "    return int(b)\n",
    "df['Month']=df['Date'].apply(month)\n",
    "df"
   ]
  },
  {
   "cell_type": "markdown",
   "metadata": {},
   "source": [
    "## Plot points and a line using lmplot to study Corona infected with time during 2020/3 2020/7 "
   ]
  },
  {
   "cell_type": "code",
   "execution_count": 63,
   "metadata": {},
   "outputs": [
    {
     "data": {
      "text/plain": [
       "<seaborn.axisgrid.FacetGrid at 0x7f4bb222ceb0>"
      ]
     },
     "execution_count": 63,
     "metadata": {},
     "output_type": "execute_result"
    },
    {
     "data": {
      "image/png": "[encoded data removed]",
      "text/plain": [
       "<Figure size 360x360 with 1 Axes>"
      ]
     },
     "metadata": {
      "needs_background": "light"
     },
     "output_type": "display_data"
    }
   ],
   "source": [
    "sns.lmplot(x='Datenum', y='Confirmed', data=df, line_kws={'color': 'red'}, scatter_kws={'color': 'blue'})"
   ]
  },
  {
   "cell_type": "markdown",
   "metadata": {},
   "source": [
    "### As Shown the linear is not applicable for this data "
   ]
  },
  {
   "cell_type": "markdown",
   "metadata": {},
   "source": [
    "# Study Deaths per month"
   ]
  },
  {
   "cell_type": "code",
   "execution_count": 58,
   "metadata": {},
   "outputs": [
    {
     "data": {
      "text/plain": [
       "<AxesSubplot:xlabel='Month', ylabel='Deaths'>"
      ]
     },
     "execution_count": 58,
     "metadata": {},
     "output_type": "execute_result"
    },
    {
     "data": {
      "image/png": "[encoded data removed]",
      "text/plain": [
       "<Figure size 432x288 with 1 Axes>"
      ]
     },
     "metadata": {
      "needs_background": "light"
     },
     "output_type": "display_data"
    }
   ],
   "source": [
    "sns.barplot(x='Month', y='Deaths', data=df, color='red', ci=False)\n",
    "# help(sns)"
   ]
  },
  {
   "cell_type": "markdown",
   "metadata": {},
   "source": [
    "## Conclusions \n",
    "1. Linear regreation will not be the best choose to deal with covid data \n",
    "2. The biggest jumb in death events is between March and April  \n",
    "3. June has more new cases than May but they have the same number of death "
   ]
  }
 ],
 "metadata": {
  "interpreter": {
   "hash": "8e72d8d80055b330216a96b16f7334144e0bbf6ec04ddaf738bd8d7633c3138f"
  },
  "kernelspec": {
   "display_name": "Python 3.9.5 64-bit ('.venv': poetry)",
   "language": "python",
   "name": "python3"
  },
  "language_info": {
   "codemirror_mode": {
    "name": "ipython",
    "version": 3
   },
   "file_extension": ".py",
   "mimetype": "text/x-python",
   "name": "python",
   "nbconvert_exporter": "python",
   "pygments_lexer": "ipython3",
   "version": "3.9.5"
  },
  "orig_nbformat": 4
 },
 "nbformat": 4,
 "nbformat_minor": 2
}
